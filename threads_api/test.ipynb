{
 "cells": [
  {
   "cell_type": "code",
   "execution_count": 81,
   "metadata": {},
   "outputs": [],
   "source": [
    "import requests\n",
    "import json\n",
    "from threads import Threads\n",
    "from threads.apis.public import PublicThreadsApi\n",
    "from threads.apis.private import PrivateThreadsApi\n",
    "import re\n",
    "import \n",
    "# from getpass import getpass"
   ]
  },
  {
   "cell_type": "code",
   "execution_count": 88,
   "metadata": {},
   "outputs": [],
   "source": [
    "username = 'zach_makes'\n",
    "password = getpass(prompt=\"Hello there\")"
   ]
  },
  {
   "cell_type": "code",
   "execution_count": null,
   "metadata": {},
   "outputs": [],
   "source": []
  },
  {
   "cell_type": "code",
   "execution_count": 90,
   "metadata": {},
   "outputs": [],
   "source": [
    "threads = Threads()\n",
    "private_threads = PrivateThreadsApi(username=username, password=password)"
   ]
  },
  {
   "cell_type": "code",
   "execution_count": 72,
   "metadata": {},
   "outputs": [
    {
     "data": {
      "text/plain": [
       "{'data': {'data': {'containing_thread': {'thread_items': [{'post': {'user': {'profile_pic_url': 'https://scontent.cdninstagram.com/v/t51.2885-19/358160752_2772526856222613_5732495444558741762_n.jpg?stp=dst-jpg_s150x150&_nc_ht=scontent.cdninstagram.com&_nc_cat=109&_nc_ohc=SKc-1F791aIAX-ZUeDC&edm=APs17CUBAAAA&ccb=7-5&oh=00_AfAnlZmbKHUE4gQ4_D_fy9npOlNb0J_cnmZottxz0ZmbkA&oe=64B20928&_nc_sid=10d13b',\n",
       "        'username': 'kevin',\n",
       "        'id': None,\n",
       "        'is_verified': True,\n",
       "        'pk': '3'},\n",
       "       'image_versions2': {'candidates': [{'height': 612,\n",
       "          'url': 'https://scontent.cdninstagram.com/v/t51.2885-15/11142282_807944772625369_492138085_n.jpg?stp=dst-jpg_e15&_nc_ht=scontent.cdninstagram.com&_nc_cat=101&_nc_ohc=rR5GHMmqocIAX-asUls&edm=APs17CUBAAAA&ccb=7-5&ig_cache_key=Mg%3D%3D.2-ccb7-5&oh=00_AfC4K9OK0WVT8tw6d_nSh4uRWpx4-TXPoWmHoD61h2AEvA&oe=64B375EC&_nc_sid=10d13b',\n",
       "          'width': 612,\n",
       "          '__typename': 'XDTImageCandidate'},\n",
       "         {'height': 480,\n",
       "          'url': 'https://scontent.cdninstagram.com/v/t51.2885-15/11142282_807944772625369_492138085_n.jpg?stp=dst-jpg_e15_s480x480&_nc_ht=scontent.cdninstagram.com&_nc_cat=101&_nc_ohc=rR5GHMmqocIAX-asUls&edm=APs17CUBAAAA&ccb=7-5&ig_cache_key=Mg%3D%3D.2-ccb7-5&oh=00_AfCn0T8IUWBvpATcwC2q4NObxMzjtuEDdzuddStZLACQRg&oe=64B375EC&_nc_sid=10d13b',\n",
       "          'width': 480,\n",
       "          '__typename': 'XDTImageCandidate'},\n",
       "         {'height': 320,\n",
       "          'url': 'https://scontent.cdninstagram.com/v/t51.2885-15/11142282_807944772625369_492138085_n.jpg?stp=dst-jpg_e15_s320x320&_nc_ht=scontent.cdninstagram.com&_nc_cat=101&_nc_ohc=rR5GHMmqocIAX-asUls&edm=APs17CUBAAAA&ccb=7-5&ig_cache_key=Mg%3D%3D.2-ccb7-5&oh=00_AfCTOGrr1rII14J4mF-uDrdHVAQoA3yAf3HyOffyCxxeXw&oe=64B375EC&_nc_sid=10d13b',\n",
       "          'width': 320,\n",
       "          '__typename': 'XDTImageCandidate'},\n",
       "         {'height': 240,\n",
       "          'url': 'https://scontent.cdninstagram.com/v/t51.2885-15/11142282_807944772625369_492138085_n.jpg?stp=dst-jpg_e15_s240x240&_nc_ht=scontent.cdninstagram.com&_nc_cat=101&_nc_ohc=rR5GHMmqocIAX-asUls&edm=APs17CUBAAAA&ccb=7-5&ig_cache_key=Mg%3D%3D.2-ccb7-5&oh=00_AfBiu41I0hcBbnOW2hgUe7GIEfe3Jw7R-eGiJ_IevUhZkw&oe=64B375EC&_nc_sid=10d13b',\n",
       "          'width': 240,\n",
       "          '__typename': 'XDTImageCandidate'},\n",
       "         {'height': 1080,\n",
       "          'url': 'https://scontent.cdninstagram.com/v/t51.2885-15/11142282_807944772625369_492138085_n.jpg?stp=dst-jpg_e15&_nc_ht=scontent.cdninstagram.com&_nc_cat=101&_nc_ohc=rR5GHMmqocIAX-asUls&edm=APs17CUBAAAA&ccb=7-5&ig_cache_key=Mg%3D%3D.2-ccb7-5&oh=00_AfC4K9OK0WVT8tw6d_nSh4uRWpx4-TXPoWmHoD61h2AEvA&oe=64B375EC&_nc_sid=10d13b',\n",
       "          'width': 1080,\n",
       "          '__typename': 'XDTImageCandidate'},\n",
       "         {'height': 750,\n",
       "          'url': 'https://scontent.cdninstagram.com/v/t51.2885-15/11142282_807944772625369_492138085_n.jpg?stp=dst-jpg_e15&_nc_ht=scontent.cdninstagram.com&_nc_cat=101&_nc_ohc=rR5GHMmqocIAX-asUls&edm=APs17CUBAAAA&ccb=7-5&ig_cache_key=Mg%3D%3D.2-ccb7-5&oh=00_AfC4K9OK0WVT8tw6d_nSh4uRWpx4-TXPoWmHoD61h2AEvA&oe=64B375EC&_nc_sid=10d13b',\n",
       "          'width': 750,\n",
       "          '__typename': 'XDTImageCandidate'},\n",
       "         {'height': 640,\n",
       "          'url': 'https://scontent.cdninstagram.com/v/t51.2885-15/11142282_807944772625369_492138085_n.jpg?stp=dst-jpg_e15&_nc_ht=scontent.cdninstagram.com&_nc_cat=101&_nc_ohc=rR5GHMmqocIAX-asUls&edm=APs17CUBAAAA&ccb=7-5&ig_cache_key=Mg%3D%3D.2-ccb7-5&oh=00_AfC4K9OK0WVT8tw6d_nSh4uRWpx4-TXPoWmHoD61h2AEvA&oe=64B375EC&_nc_sid=10d13b',\n",
       "          'width': 640,\n",
       "          '__typename': 'XDTImageCandidate'},\n",
       "         {'height': 480,\n",
       "          'url': 'https://scontent.cdninstagram.com/v/t51.2885-15/11142282_807944772625369_492138085_n.jpg?stp=dst-jpg_e15_s480x480&_nc_ht=scontent.cdninstagram.com&_nc_cat=101&_nc_ohc=rR5GHMmqocIAX-asUls&edm=APs17CUBAAAA&ccb=7-5&ig_cache_key=Mg%3D%3D.2-ccb7-5&oh=00_AfCn0T8IUWBvpATcwC2q4NObxMzjtuEDdzuddStZLACQRg&oe=64B375EC&_nc_sid=10d13b',\n",
       "          'width': 480,\n",
       "          '__typename': 'XDTImageCandidate'},\n",
       "         {'height': 320,\n",
       "          'url': 'https://scontent.cdninstagram.com/v/t51.2885-15/11142282_807944772625369_492138085_n.jpg?stp=dst-jpg_e15_s320x320&_nc_ht=scontent.cdninstagram.com&_nc_cat=101&_nc_ohc=rR5GHMmqocIAX-asUls&edm=APs17CUBAAAA&ccb=7-5&ig_cache_key=Mg%3D%3D.2-ccb7-5&oh=00_AfCTOGrr1rII14J4mF-uDrdHVAQoA3yAf3HyOffyCxxeXw&oe=64B375EC&_nc_sid=10d13b',\n",
       "          'width': 320,\n",
       "          '__typename': 'XDTImageCandidate'},\n",
       "         {'height': 240,\n",
       "          'url': 'https://scontent.cdninstagram.com/v/t51.2885-15/11142282_807944772625369_492138085_n.jpg?stp=dst-jpg_e15_s240x240&_nc_ht=scontent.cdninstagram.com&_nc_cat=101&_nc_ohc=rR5GHMmqocIAX-asUls&edm=APs17CUBAAAA&ccb=7-5&ig_cache_key=Mg%3D%3D.2-ccb7-5&oh=00_AfBiu41I0hcBbnOW2hgUe7GIEfe3Jw7R-eGiJ_IevUhZkw&oe=64B375EC&_nc_sid=10d13b',\n",
       "          'width': 240,\n",
       "          '__typename': 'XDTImageCandidate'},\n",
       "         {'height': 150,\n",
       "          'url': 'https://scontent.cdninstagram.com/v/t51.2885-15/11142282_807944772625369_492138085_n.jpg?stp=dst-jpg_e15_s150x150&_nc_ht=scontent.cdninstagram.com&_nc_cat=101&_nc_ohc=rR5GHMmqocIAX-asUls&edm=APs17CUBAAAA&ccb=7-5&ig_cache_key=Mg%3D%3D.2-ccb7-5&oh=00_AfCIfPtYZRslQarZO1WK3SicSoONKaorLagZJgJH6_XTJg&oe=64B375EC&_nc_sid=10d13b',\n",
       "          'width': 150,\n",
       "          '__typename': 'XDTImageCandidate'}]},\n",
       "       'original_width': 612,\n",
       "       'original_height': 612,\n",
       "       'video_versions': [],\n",
       "       'carousel_media': None,\n",
       "       'carousel_media_count': None,\n",
       "       'pk': '2',\n",
       "       'has_audio': None,\n",
       "       'text_post_app_info': None,\n",
       "       'caption': {'text': 'test'},\n",
       "       'taken_at': 1279315486,\n",
       "       'like_count': 335556,\n",
       "       'code': 'C',\n",
       "       'media_overlay_info': None,\n",
       "       'id': '2_3'},\n",
       "      'line_type': 'none',\n",
       "      'view_replies_cta_string': None,\n",
       "      'reply_facepile_users': [],\n",
       "      'should_show_replies_cta': False}],\n",
       "    'thread_type': 'thread',\n",
       "    'header': None,\n",
       "    'id': '2'},\n",
       "   'reply_threads': [{'thread_items': [{'post': {'user': {'profile_pic_url': 'https://scontent.cdninstagram.com/v/t51.2885-19/357797857_956605575460533_5547449626855771292_n.jpg?stp=dst-jpg_s150x150&_nc_ht=scontent.cdninstagram.com&_nc_cat=109&_nc_ohc=18lxg00NNA0AX_fqvZO&edm=APs17CUBAAAA&ccb=7-5&oh=00_AfCqCAzME2XwNlAZOehbJIBBkDP-ikVbR3US8O3T6SzPqg&oe=64B30D1E&_nc_sid=10d13b',\n",
       "         'username': 'abrahamwilliams',\n",
       "         'id': None,\n",
       "         'is_verified': False,\n",
       "         'pk': '9631155'},\n",
       "        'image_versions2': {'candidates': []},\n",
       "        'original_width': 612,\n",
       "        'original_height': 612,\n",
       "        'video_versions': [],\n",
       "        'carousel_media': None,\n",
       "        'carousel_media_count': None,\n",
       "        'pk': '3141131948823350463',\n",
       "        'has_audio': None,\n",
       "        'text_post_app_info': {'link_preview_attachment': None,\n",
       "         'share_info': {'quoted_post': None, 'reposted_post': None},\n",
       "         'reply_to_author': {'username': 'kevin', 'id': None},\n",
       "         'is_post_unavailable': False},\n",
       "        'caption': {'text': 'Cute dog'},\n",
       "        'taken_at': 1688672129,\n",
       "        'like_count': 3,\n",
       "        'code': 'CuXit1yPwy_',\n",
       "        'media_overlay_info': None,\n",
       "        'id': '3141131948823350463_9631155'},\n",
       "       'line_type': 'line',\n",
       "       'view_replies_cta_string': '2 replies',\n",
       "       'reply_facepile_users': [{'__typename': 'XDTUserDict',\n",
       "         'id': None,\n",
       "         'profile_pic_url': 'https://scontent.cdninstagram.com/v/t51.2885-19/358211656_248840657904377_2797953689964413853_n.jpg?stp=dst-jpg_s150x150&_nc_ht=scontent.cdninstagram.com&_nc_cat=105&_nc_ohc=LtXzxY-RR90AX_GN3U7&edm=APs17CUBAAAA&ccb=7-5&oh=00_AfDgc5taf7h67D70V8Yk9A9GW77tcfOnIymU3Xx8LwJMig&oe=64B1C264&_nc_sid=10d13b'},\n",
       "        {'__typename': 'XDTUserDict',\n",
       "         'id': None,\n",
       "         'profile_pic_url': 'https://scontent.cdninstagram.com/v/t51.2885-19/358074381_630366802490381_4504452751716025338_n.jpg?stp=dst-jpg_s150x150&_nc_ht=scontent.cdninstagram.com&_nc_cat=105&_nc_ohc=9gg99bYAo68AX9O32e7&edm=APs17CUBAAAA&ccb=7-5&oh=00_AfCon7WCsI8T3QVpE2MOC21DctXzhX6OhrwxaDc0d2UO7A&oe=64B37D6C&_nc_sid=10d13b'}],\n",
       "       'should_show_replies_cta': True}],\n",
       "     'thread_type': 'thread',\n",
       "     'header': None,\n",
       "     'id': '3141131948823350463'}]}},\n",
       " 'extensions': {'is_final': True}}"
      ]
     },
     "execution_count": 72,
     "metadata": {},
     "output_type": "execute_result"
    }
   ],
   "source": [
    "threads.public_api.get_thread(id=2)"
   ]
  },
  {
   "cell_type": "code",
   "execution_count": 103,
   "metadata": {},
   "outputs": [],
   "source": [
    "class MyThreadsAPI(PublicThreadsApi):\n",
    "\n",
    "    def __init__(self):\n",
    "        super().__init__()\n",
    "\n",
    "    def get_random_thread(self) -> dict:\n",
    "        \"\"\"\n",
    "        Get a thread.\n",
    "\n",
    "        Returns:\n",
    "            The thread as a dict.\n",
    "        \"\"\"\n",
    "        headers = self.default_headers | {\n",
    "            'X-FB-Friendly-Name': 'BarcelonaPostPageQuery',\n",
    "        }\n",
    "\n",
    "        response = requests.post(\n",
    "            url=self.THREADS_API_URL,\n",
    "            headers=headers,\n",
    "            data={\n",
    "                'lsd': self.threads_api_token,\n",
    "                # 'variables': json.dumps(\n",
    "                #     {\n",
    "                #         'postID': id,\n",
    "                #     }\n",
    "                # ),\n",
    "                'doc_id': '5587632691339264',\n",
    "            },\n",
    "        )\n",
    "\n",
    "        return response.json()\n",
    "\n",
    "class MyPrivateThreadsAPI(PrivateThreadsApi):\n",
    "\n",
    "    def get_random_thread(self):\n",
    "\n",
    "        \"\"\"\n",
    "        Get a thread.\n",
    "\n",
    "        Returns:\n",
    "            The thread as a dict.\n",
    "        \"\"\"\n",
    "        response = requests.get(\n",
    "            url=f'{self.INSTAGRAM_API_URL}/text_feed',\n",
    "            headers=self.headers,\n",
    "        )\n",
    "        \n",
    "        return response\n"
   ]
  },
  {
   "cell_type": "code",
   "execution_count": 104,
   "metadata": {},
   "outputs": [],
   "source": [
    "mythreads = MyThreadsAPI()\n",
    "mythreads.get_random_thread()\n",
    "myprivate_threads = MyPrivateThreadsAPI(username=username, password=password)"
   ]
  },
  {
   "cell_type": "code",
   "execution_count": 105,
   "metadata": {},
   "outputs": [],
   "source": [
    "response = myprivate_threads.get_random_thread()"
   ]
  },
  {
   "cell_type": "code",
   "execution_count": 106,
   "metadata": {},
   "outputs": [
    {
     "data": {
      "text/plain": [
       "<Response [404]>"
      ]
     },
     "execution_count": 106,
     "metadata": {},
     "output_type": "execute_result"
    }
   ],
   "source": [
    "response"
   ]
  },
  {
   "cell_type": "code",
   "execution_count": null,
   "metadata": {},
   "outputs": [],
   "source": []
  },
  {
   "cell_type": "code",
   "execution_count": 57,
   "metadata": {},
   "outputs": [],
   "source": [
    "def _get_threads_api_token() -> str:\n",
    "    \"\"\"\n",
    "    Get a token for Threads API.\n",
    "\n",
    "    It is called `lsd` internally and is required for any request.\n",
    "    For anonymous users, it is just generated automatically from API's back-end and passed to front-end.\n",
    "\n",
    "    Returns:\n",
    "        The token for Threads API as a string.\n",
    "    \"\"\"\n",
    "    response = requests.get(\n",
    "        url='https://www.instagram.com/instagram',\n",
    "        headers=fetch_html_headers,\n",
    "    )\n",
    "\n",
    "    token_key_value = re.search('LSD\",\\\\[\\\\],{\"token\":\"(.*?)\"},\\\\d+\\\\]', response.text).group()\n",
    "    token_key_value = token_key_value.replace('LSD\",[],{\"token\":\"', '')\n",
    "    token = token_key_value.split('\"')[0]\n",
    "\n",
    "    return token\n",
    "\n",
    "threads_api_token = _get_threads_api_token()"
   ]
  },
  {
   "cell_type": "code",
   "execution_count": 63,
   "metadata": {},
   "outputs": [],
   "source": [
    "fetch_html_headers = {\n",
    "    'Authority': 'www.threads.net',\n",
    "    'Accept': (\n",
    "        'text/html,application/xhtml+xml,application/xml;q=0.9,image/avif,image/webp,image/apng,*/*;'\n",
    "        'q=0.8,application/signed-exchange;v=b3;q=0.7'\n",
    "    ),\n",
    "    'Accept-Language': 'en-US,en;q=0.9',\n",
    "    'Cache-Control': 'no-cache',\n",
    "    'Content-Type': 'application/x-www-form-urlencoded',\n",
    "    'Origin': 'https://www.threads.net',\n",
    "    'Pragma': 'no-cache',\n",
    "    'Referer': 'https://www.instagram.com',\n",
    "    'Sec-Fetch-Dest': 'document',\n",
    "    'Sec-Fetch-Mode': 'navigate',\n",
    "    'Sec-Fetch-Site': 'cross-site',\n",
    "    'Sec-Fetch-User': '?1',\n",
    "    'Upgrade-Insecure-Requests': '1',\n",
    "    'User-Agent': (\n",
    "        'Mozilla/5.0 (Macintosh; Intel Mac OS X 10_13_6) '\n",
    "        'AppleWebKit/605.1.15 (KHTML, like Gecko) Version/11.1.2 Safari/605.1.15'\n",
    "    ),\n",
    "}\n",
    "base = 'https://www.threads.net/api/graphql'\n",
    "headers = {\n",
    "    'Sec-Fetch-Site': 'same-origin',\n",
    "    'Content-Type': 'application/x-www-form-urlencoded; charset=UTF-8'\n",
    "}\n",
    "default_headers = {\n",
    "    'Authority': 'www.threads.net',\n",
    "    'Accept': '*/*',\n",
    "    'Accept-Language': 'en-US,en;q=0.9',\n",
    "    'Cache-Control': 'no-cache',\n",
    "    'Content-Type': 'application/x-www-form-urlencoded',\n",
    "    'Origin': 'https://www.threads.net',\n",
    "    'Pragma': 'no-cache',\n",
    "    'Sec-Fetch-Site': 'same-origin',\n",
    "    'X-ASBD-ID': '129477',\n",
    "    'X-FB-LSD': threads_api_token,\n",
    "    'X-IG-App-ID': '238260118697367',\n",
    "}\n"
   ]
  },
  {
   "cell_type": "code",
   "execution_count": 64,
   "metadata": {},
   "outputs": [],
   "source": [
    "endpoint = f'{base}/api/v1/feed/text_post_app_timeline'"
   ]
  },
  {
   "cell_type": "code",
   "execution_count": 108,
   "metadata": {},
   "outputs": [
    {
     "ename": "TypeError",
     "evalue": "request() got an unexpected keyword argument 'body'",
     "output_type": "error",
     "traceback": [
      "\u001b[0;31m---------------------------------------------------------------------------\u001b[0m",
      "\u001b[0;31mTypeError\u001b[0m                                 Traceback (most recent call last)",
      "\u001b[1;32m/Users/ZBloss/Projects/threads-tda/threads_api/test.ipynb Cell 14\u001b[0m in \u001b[0;36m1\n\u001b[0;32m----> <a href='vscode-notebook-cell:/Users/ZBloss/Projects/threads-tda/threads_api/test.ipynb#W6sZmlsZQ%3D%3D?line=0'>1</a>\u001b[0m response \u001b[39m=\u001b[39m requests\u001b[39m.\u001b[39;49mpost(\n\u001b[1;32m      <a href='vscode-notebook-cell:/Users/ZBloss/Projects/threads-tda/threads_api/test.ipynb#W6sZmlsZQ%3D%3D?line=1'>2</a>\u001b[0m     base, \n\u001b[1;32m      <a href='vscode-notebook-cell:/Users/ZBloss/Projects/threads-tda/threads_api/test.ipynb#W6sZmlsZQ%3D%3D?line=2'>3</a>\u001b[0m     headers\u001b[39m=\u001b[39;49mdefault_headers,    \n\u001b[1;32m      <a href='vscode-notebook-cell:/Users/ZBloss/Projects/threads-tda/threads_api/test.ipynb#W6sZmlsZQ%3D%3D?line=3'>4</a>\u001b[0m     body\u001b[39m=\u001b[39;49m\u001b[39m'\u001b[39;49m\u001b[39mpagination_source=text_post_feed_threads&max_id=100000000\u001b[39;49m\u001b[39m'\u001b[39;49m\n\u001b[1;32m      <a href='vscode-notebook-cell:/Users/ZBloss/Projects/threads-tda/threads_api/test.ipynb#W6sZmlsZQ%3D%3D?line=4'>5</a>\u001b[0m )\n",
      "File \u001b[0;32m~/.pyenv/versions/3.9.13/lib/python3.9/site-packages/requests/api.py:115\u001b[0m, in \u001b[0;36mpost\u001b[0;34m(url, data, json, **kwargs)\u001b[0m\n\u001b[1;32m    103\u001b[0m \u001b[39mdef\u001b[39;00m \u001b[39mpost\u001b[39m(url, data\u001b[39m=\u001b[39m\u001b[39mNone\u001b[39;00m, json\u001b[39m=\u001b[39m\u001b[39mNone\u001b[39;00m, \u001b[39m*\u001b[39m\u001b[39m*\u001b[39mkwargs):\n\u001b[1;32m    104\u001b[0m     \u001b[39mr\u001b[39m\u001b[39m\"\"\"Sends a POST request.\u001b[39;00m\n\u001b[1;32m    105\u001b[0m \n\u001b[1;32m    106\u001b[0m \u001b[39m    :param url: URL for the new :class:`Request` object.\u001b[39;00m\n\u001b[0;32m   (...)\u001b[0m\n\u001b[1;32m    112\u001b[0m \u001b[39m    :rtype: requests.Response\u001b[39;00m\n\u001b[1;32m    113\u001b[0m \u001b[39m    \"\"\"\u001b[39;00m\n\u001b[0;32m--> 115\u001b[0m     \u001b[39mreturn\u001b[39;00m request(\u001b[39m\"\u001b[39;49m\u001b[39mpost\u001b[39;49m\u001b[39m\"\u001b[39;49m, url, data\u001b[39m=\u001b[39;49mdata, json\u001b[39m=\u001b[39;49mjson, \u001b[39m*\u001b[39;49m\u001b[39m*\u001b[39;49mkwargs)\n",
      "File \u001b[0;32m~/.pyenv/versions/3.9.13/lib/python3.9/site-packages/requests/api.py:59\u001b[0m, in \u001b[0;36mrequest\u001b[0;34m(method, url, **kwargs)\u001b[0m\n\u001b[1;32m     55\u001b[0m \u001b[39m# By using the 'with' statement we are sure the session is closed, thus we\u001b[39;00m\n\u001b[1;32m     56\u001b[0m \u001b[39m# avoid leaving sockets open which can trigger a ResourceWarning in some\u001b[39;00m\n\u001b[1;32m     57\u001b[0m \u001b[39m# cases, and look like a memory leak in others.\u001b[39;00m\n\u001b[1;32m     58\u001b[0m \u001b[39mwith\u001b[39;00m sessions\u001b[39m.\u001b[39mSession() \u001b[39mas\u001b[39;00m session:\n\u001b[0;32m---> 59\u001b[0m     \u001b[39mreturn\u001b[39;00m session\u001b[39m.\u001b[39;49mrequest(method\u001b[39m=\u001b[39;49mmethod, url\u001b[39m=\u001b[39;49murl, \u001b[39m*\u001b[39;49m\u001b[39m*\u001b[39;49mkwargs)\n",
      "\u001b[0;31mTypeError\u001b[0m: request() got an unexpected keyword argument 'body'"
     ]
    }
   ],
   "source": [
    "response = requests.post(\n",
    "    base, \n",
    "    headers=default_headers,    \n",
    "    body='pagination_source=text_post_feed_threads&max_id=100000000'\n",
    ")"
   ]
  },
  {
   "cell_type": "code",
   "execution_count": 68,
   "metadata": {},
   "outputs": [
    {
     "data": {
      "text/plain": [
       "200"
      ]
     },
     "execution_count": 68,
     "metadata": {},
     "output_type": "execute_result"
    }
   ],
   "source": [
    "response.status_code"
   ]
  },
  {
   "cell_type": "code",
   "execution_count": 71,
   "metadata": {},
   "outputs": [
    {
     "ename": "JSONDecodeError",
     "evalue": "Expecting value: line 1 column 1 (char 0)",
     "output_type": "error",
     "traceback": [
      "\u001b[0;31m---------------------------------------------------------------------------\u001b[0m",
      "\u001b[0;31mJSONDecodeError\u001b[0m                           Traceback (most recent call last)",
      "File \u001b[0;32m~/.pyenv/versions/3.9.13/lib/python3.9/site-packages/requests/models.py:971\u001b[0m, in \u001b[0;36mResponse.json\u001b[0;34m(self, **kwargs)\u001b[0m\n\u001b[1;32m    970\u001b[0m \u001b[39mtry\u001b[39;00m:\n\u001b[0;32m--> 971\u001b[0m     \u001b[39mreturn\u001b[39;00m complexjson\u001b[39m.\u001b[39;49mloads(\u001b[39mself\u001b[39;49m\u001b[39m.\u001b[39;49mtext, \u001b[39m*\u001b[39;49m\u001b[39m*\u001b[39;49mkwargs)\n\u001b[1;32m    972\u001b[0m \u001b[39mexcept\u001b[39;00m JSONDecodeError \u001b[39mas\u001b[39;00m e:\n\u001b[1;32m    973\u001b[0m     \u001b[39m# Catch JSON-related errors and raise as requests.JSONDecodeError\u001b[39;00m\n\u001b[1;32m    974\u001b[0m     \u001b[39m# This aliases json.JSONDecodeError and simplejson.JSONDecodeError\u001b[39;00m\n",
      "File \u001b[0;32m~/.pyenv/versions/3.9.13/lib/python3.9/json/__init__.py:346\u001b[0m, in \u001b[0;36mloads\u001b[0;34m(s, cls, object_hook, parse_float, parse_int, parse_constant, object_pairs_hook, **kw)\u001b[0m\n\u001b[1;32m    343\u001b[0m \u001b[39mif\u001b[39;00m (\u001b[39mcls\u001b[39m \u001b[39mis\u001b[39;00m \u001b[39mNone\u001b[39;00m \u001b[39mand\u001b[39;00m object_hook \u001b[39mis\u001b[39;00m \u001b[39mNone\u001b[39;00m \u001b[39mand\u001b[39;00m\n\u001b[1;32m    344\u001b[0m         parse_int \u001b[39mis\u001b[39;00m \u001b[39mNone\u001b[39;00m \u001b[39mand\u001b[39;00m parse_float \u001b[39mis\u001b[39;00m \u001b[39mNone\u001b[39;00m \u001b[39mand\u001b[39;00m\n\u001b[1;32m    345\u001b[0m         parse_constant \u001b[39mis\u001b[39;00m \u001b[39mNone\u001b[39;00m \u001b[39mand\u001b[39;00m object_pairs_hook \u001b[39mis\u001b[39;00m \u001b[39mNone\u001b[39;00m \u001b[39mand\u001b[39;00m \u001b[39mnot\u001b[39;00m kw):\n\u001b[0;32m--> 346\u001b[0m     \u001b[39mreturn\u001b[39;00m _default_decoder\u001b[39m.\u001b[39;49mdecode(s)\n\u001b[1;32m    347\u001b[0m \u001b[39mif\u001b[39;00m \u001b[39mcls\u001b[39m \u001b[39mis\u001b[39;00m \u001b[39mNone\u001b[39;00m:\n",
      "File \u001b[0;32m~/.pyenv/versions/3.9.13/lib/python3.9/json/decoder.py:337\u001b[0m, in \u001b[0;36mJSONDecoder.decode\u001b[0;34m(self, s, _w)\u001b[0m\n\u001b[1;32m    333\u001b[0m \u001b[39m\"\"\"Return the Python representation of ``s`` (a ``str`` instance\u001b[39;00m\n\u001b[1;32m    334\u001b[0m \u001b[39mcontaining a JSON document).\u001b[39;00m\n\u001b[1;32m    335\u001b[0m \n\u001b[1;32m    336\u001b[0m \u001b[39m\"\"\"\u001b[39;00m\n\u001b[0;32m--> 337\u001b[0m obj, end \u001b[39m=\u001b[39m \u001b[39mself\u001b[39;49m\u001b[39m.\u001b[39;49mraw_decode(s, idx\u001b[39m=\u001b[39;49m_w(s, \u001b[39m0\u001b[39;49m)\u001b[39m.\u001b[39;49mend())\n\u001b[1;32m    338\u001b[0m end \u001b[39m=\u001b[39m _w(s, end)\u001b[39m.\u001b[39mend()\n",
      "File \u001b[0;32m~/.pyenv/versions/3.9.13/lib/python3.9/json/decoder.py:355\u001b[0m, in \u001b[0;36mJSONDecoder.raw_decode\u001b[0;34m(self, s, idx)\u001b[0m\n\u001b[1;32m    354\u001b[0m \u001b[39mexcept\u001b[39;00m \u001b[39mStopIteration\u001b[39;00m \u001b[39mas\u001b[39;00m err:\n\u001b[0;32m--> 355\u001b[0m     \u001b[39mraise\u001b[39;00m JSONDecodeError(\u001b[39m\"\u001b[39m\u001b[39mExpecting value\u001b[39m\u001b[39m\"\u001b[39m, s, err\u001b[39m.\u001b[39mvalue) \u001b[39mfrom\u001b[39;00m \u001b[39mNone\u001b[39m\n\u001b[1;32m    356\u001b[0m \u001b[39mreturn\u001b[39;00m obj, end\n",
      "\u001b[0;31mJSONDecodeError\u001b[0m: Expecting value: line 1 column 1 (char 0)",
      "\nDuring handling of the above exception, another exception occurred:\n",
      "\u001b[0;31mJSONDecodeError\u001b[0m                           Traceback (most recent call last)",
      "\u001b[1;32m/Users/ZBloss/Projects/threads-tda/threads_api/test.ipynb Cell 9\u001b[0m in \u001b[0;36m1\n\u001b[0;32m----> <a href='vscode-notebook-cell:/Users/ZBloss/Projects/threads-tda/threads_api/test.ipynb#X11sZmlsZQ%3D%3D?line=0'>1</a>\u001b[0m response\u001b[39m.\u001b[39;49mjson()\n",
      "File \u001b[0;32m~/.pyenv/versions/3.9.13/lib/python3.9/site-packages/requests/models.py:975\u001b[0m, in \u001b[0;36mResponse.json\u001b[0;34m(self, **kwargs)\u001b[0m\n\u001b[1;32m    971\u001b[0m     \u001b[39mreturn\u001b[39;00m complexjson\u001b[39m.\u001b[39mloads(\u001b[39mself\u001b[39m\u001b[39m.\u001b[39mtext, \u001b[39m*\u001b[39m\u001b[39m*\u001b[39mkwargs)\n\u001b[1;32m    972\u001b[0m \u001b[39mexcept\u001b[39;00m JSONDecodeError \u001b[39mas\u001b[39;00m e:\n\u001b[1;32m    973\u001b[0m     \u001b[39m# Catch JSON-related errors and raise as requests.JSONDecodeError\u001b[39;00m\n\u001b[1;32m    974\u001b[0m     \u001b[39m# This aliases json.JSONDecodeError and simplejson.JSONDecodeError\u001b[39;00m\n\u001b[0;32m--> 975\u001b[0m     \u001b[39mraise\u001b[39;00m RequestsJSONDecodeError(e\u001b[39m.\u001b[39mmsg, e\u001b[39m.\u001b[39mdoc, e\u001b[39m.\u001b[39mpos)\n",
      "\u001b[0;31mJSONDecodeError\u001b[0m: Expecting value: line 1 column 1 (char 0)"
     ]
    }
   ],
   "source": [
    "response.json()"
   ]
  },
  {
   "cell_type": "code",
   "execution_count": null,
   "metadata": {},
   "outputs": [],
   "source": []
  },
  {
   "cell_type": "code",
   "execution_count": null,
   "metadata": {},
   "outputs": [],
   "source": []
  },
  {
   "cell_type": "code",
   "execution_count": null,
   "metadata": {},
   "outputs": [],
   "source": []
  },
  {
   "cell_type": "code",
   "execution_count": null,
   "metadata": {},
   "outputs": [],
   "source": [
    "def _get_instagram_api_token(self) -> str:\n",
    "    \"\"\"\n",
    "    Get a token for Instagram API.\n",
    "\n",
    "    Returns:\n",
    "        The token for Instagram API as a string.\n",
    "    \"\"\"\n",
    "    block_version = '5f56efad68e1edec7801f630b5c122704ec5378adbee6609a448f105f34a9c73'\n",
    "\n",
    "    parameters_as_string = json.dumps(\n",
    "        {\n",
    "            'client_input_params': {\n",
    "                'password': self.password,\n",
    "                'contact_point': self.username,\n",
    "                'device_id': self.android_device_id,\n",
    "            },\n",
    "            'server_params': {\n",
    "                'credential_type': 'password',\n",
    "                'device_id': self.android_device_id,\n",
    "            },\n",
    "        }\n",
    "    )\n",
    "\n",
    "    bk_client_context_as_string = json.dumps(\n",
    "        {\n",
    "            'bloks_version': block_version,\n",
    "            'styles_id': 'instagram',\n",
    "        }\n",
    "    )\n",
    "\n",
    "    params = quote(string=parameters_as_string, safe=\"!~*'()\")\n",
    "    bk_client_context = quote(string=bk_client_context_as_string, safe=\"!~*'()\")\n",
    "\n",
    "    response = requests.post(\n",
    "        url=f'{self.INSTAGRAM_API_URL}/bloks/apps/com.bloks.www.bloks.caa.login.async.send_login_request/',\n",
    "        headers={\n",
    "            'User-Agent': 'Barcelona 289.0.0.77.109 Android',\n",
    "            'Sec-Fetch-Site': 'same-origin',\n",
    "            'Content-Type': 'application/x-www-form-urlencoded; charset=UTF-8',\n",
    "        },\n",
    "        data=f'params={params}&bk_client_context={bk_client_context}&bloks_versioning_id={block_version}',\n",
    "    )\n",
    "\n",
    "    bearer_key_position = response.text.find('Bearer IGT:2:')\n",
    "    response_text = response.text[bearer_key_position:]\n",
    "\n",
    "    backslash_key_position = response_text.find('\\\\\\\\')\n",
    "    token = response_text[13:backslash_key_position]\n",
    "\n",
    "    return token\n"
   ]
  },
  {
   "cell_type": "code",
   "execution_count": null,
   "metadata": {},
   "outputs": [],
   "source": [
    "INSTAGRAM_API_URL = 'https://i.instagram.com/api/v1'\n",
    "headers = {\n",
    "    'Authorization': f'Bearer IGT:2:{self.instagram_api_token}',\n",
    "    'User-Agent': 'Barcelona 289.0.0.77.109 Android',\n",
    "    'Sec-Fetch-Site': 'same-origin',\n",
    "    'Content-Type': 'application/x-www-form-urlencoded; charset=UTF-8',\n",
    "}\n"
   ]
  },
  {
   "cell_type": "code",
   "execution_count": null,
   "metadata": {},
   "outputs": [],
   "source": [
    "response = requests.get(\n",
    "    url=f'{INSTAGRAM_API_URL}/text_feed/{id}/replies',\n",
    "    headers=headers,\n",
    ")\n"
   ]
  }
 ],
 "metadata": {
  "kernelspec": {
   "display_name": "Python 3",
   "language": "python",
   "name": "python3"
  },
  "language_info": {
   "codemirror_mode": {
    "name": "ipython",
    "version": 3
   },
   "file_extension": ".py",
   "mimetype": "text/x-python",
   "name": "python",
   "nbconvert_exporter": "python",
   "pygments_lexer": "ipython3",
   "version": "3.9.13"
  },
  "orig_nbformat": 4
 },
 "nbformat": 4,
 "nbformat_minor": 2
}
